{
 "cells": [
  {
   "cell_type": "markdown",
   "id": "dbaf6ac4",
   "metadata": {},
   "source": [
    "# 3.1\tInsert records from\n",
    "42_District_wise_crimes_committed_against_women_2001_2012.csv into a table"
   ]
  },
  {
   "cell_type": "markdown",
   "id": "e3025e61",
   "metadata": {},
   "source": [
    "-- Assuming your CSV file is comma-separated and has headers\n",
    "\n",
    "CREATE TABLE IF NOT EXISTS crimes_against_women (\n",
    "  State VARCHAR(255) NOT NULL,\n",
    "  District VARCHAR(255) NOT NULL,\n",
    "  Year INTEGER NOT NULL,\n",
    "  Rape INTEGER,\n",
    "  Kidnapping INTEGER,\n",
    "  ... -- Add other columns from the CSV file if they exist\n",
    ");\n",
    "\n",
    "LOAD DATA LOCAL INFILE 'path/to/your/file.csv'\n",
    "INTO TABLE crimes_against_women\n",
    "FIELDS TERMINATED BY ','\n",
    "LINES TERMINATED BY '\\n'\n",
    "IGNORE 1 ROWS; -- Skip the header row (assuming the first row has column names)"
   ]
  },
  {
   "cell_type": "markdown",
   "id": "1717edc9",
   "metadata": {},
   "source": [
    "# 3.2\tWrite SQL query to find the highest number of rapes & Kidnappings that happened in which state, District, and year\n",
    "\n",
    "\n",
    "\n"
   ]
  },
  {
   "cell_type": "markdown",
   "id": "5caf3aab",
   "metadata": {},
   "source": [
    "SELECT \n",
    "  STATE/UT,\n",
    "  District,\n",
    "  Year,\n",
    "  SUM(CASE WHEN CrimeType IN ('Rape''OTHER RAPE', 'KIDNAPPING & ABDUCTION','KIDNAPPING AND ABDUCTION OF WOMEN') THEN 1 ELSE 0 END) AS Rape_Kidnapping_Count\n",
    "FROM dwc\n",
    "GROUP BY STATE/UT, DISTRICT, YEAR\n",
    "ORDER BY RAPE_Kidnapping_Count DESC\n",
    "LIMIT 5"
   ]
  },
  {
   "cell_type": "markdown",
   "id": "af2673df",
   "metadata": {},
   "source": [
    "# 3.3\tWrite SQL query to find All the lowest number of rapes & Kidnappings that happened in which state, District, and year"
   ]
  },
  {
   "cell_type": "markdown",
   "id": "3d2d2c1a",
   "metadata": {},
   "source": [
    "SELECT \n",
    "  State,\n",
    "  District,\n",
    "  Year,\n",
    "  SUM(CASE WHEN CrimeType IN ('RAPE''OTHER RAPE', 'KIDNAPPING & ABDUCTION','KIDNAPPING AND ABDUCTION OF WOMEN') THEN 1 ELSE 0 END) AS Rape_Kidnapping_Count\n",
    "FROM YourTable\n",
    "GROUP BY State, District, Year\n",
    "HAVING Rape_Kidnapping_Count = (\n",
    "  SELECT MIN(Rape_Kidnapping_Count)\n",
    "  FROM YourTable\n",
    "  GROUP BY State, District, Year\n",
    ");"
   ]
  },
  {
   "cell_type": "markdown",
   "id": "35d28bc3",
   "metadata": {},
   "source": [
    "# 3.4\tInsert records from 02_District_wise_crimes_committed_against_ST_2001_2012.csv into a new table\n",
    "\n"
   ]
  },
  {
   "cell_type": "markdown",
   "id": "eee613f5",
   "metadata": {},
   "source": [
    "the SQL code to insert records from a CSV file named 02_District_wise_crimes_committed_against_ST_2001_2012.csv into a new table:\n",
    "\n",
    "SQL\n",
    "-- Assuming your CSV file is comma-separated and has headers\n",
    "\n",
    "CREATE TABLE IF NOT EXISTS crimes_against_st (\n",
    "  State VARCHAR(255) NOT NULL,\n",
    "  District VARCHAR(255) NOT NULL,\n",
    "  Year INTEGER NOT NULL,\n",
    "  ... -- Add other columns from the CSV file if they exist\n",
    ");\n",
    "\n",
    "LOAD DATA LOCAL INFILE 'path/to/your/file.csv'\n",
    "INTO TABLE crimes_against_st\n",
    "FIELDS TERMINATED BY ','\n",
    "LINES TERMINATED BY '\\n'\n",
    "IGNORE 1 ROWS; -- Skip the header row (assuming the first row has column names)\n",
    "Use code with caution.\n"
   ]
  },
  {
   "cell_type": "markdown",
   "id": "48c0166c",
   "metadata": {},
   "source": [
    "# 3.5\tWrite SQL query to find the highest number of dacoity/robbery in which district.\n",
    "\n"
   ]
  },
  {
   "cell_type": "markdown",
   "id": "677d42f7",
   "metadata": {},
   "source": [
    "SELECT District,\n",
    "       SUM(CASE WHEN CrimeType IN ('Dacoity', 'Robbery') THEN 1 ELSE 0 END) AS Dacoity_Robbery_Count\n",
    "FROM YourTable\n",
    "GROUP BY District\n",
    "ORDER BY Dacoity_Robbery_Count DESC\n",
    "LIMIT 1;"
   ]
  },
  {
   "cell_type": "markdown",
   "id": "3e11e610",
   "metadata": {},
   "source": [
    "# 3.6\tWrite SQL query to find in which districts(All) the lowest number of murders happened"
   ]
  },
  {
   "cell_type": "markdown",
   "id": "132e3073",
   "metadata": {},
   "source": [
    "SELECT District\n",
    "FROM 01_District_wise_crimes_committed_IPC_2001_2012\n",
    "WHERE CrimeType = 'Murder'\n",
    "GROUP BY District\n",
    "HAVING COUNT(*) = (\n",
    "  SELECT MIN(crime_count)\n",
    "  FROM (\n",
    "    SELECT District, COUNT(*) AS crime_count\n",
    "    FROM 01_District_wise_crimes_committed_IPC_2001_2012\n",
    "    WHERE CrimeType = 'Murder'\n",
    "    GROUP BY District\n",
    "  ) AS murder_counts\n",
    ");"
   ]
  },
  {
   "cell_type": "markdown",
   "id": "cc9423d5",
   "metadata": {},
   "source": [
    "# 3.7\tWrite SQL query to find the number of murders in ascending order in district and yearwise."
   ]
  },
  {
   "cell_type": "markdown",
   "id": "b0f7c9d6",
   "metadata": {},
   "source": [
    "SELECT District, Year, COUNT(*) AS Murder_Count\n",
    "FROM 01_District_wise_crimes_committed_IPC_2001_2012\n",
    "WHERE CrimeType = 'Murder'\n",
    "GROUP BY District, Year\n",
    "ORDER BY District, Year ASC;"
   ]
  },
  {
   "cell_type": "markdown",
   "id": "a8e0f5fb",
   "metadata": {},
   "source": [
    "# 3.8.1\tInsert records of STATE/UT, DISTRICT, YEAR, MURDER, ATTEMPT TO MURDER, and RAPE columns only from 01_District_wise_crimes_committed_IPC_2001_2012.csv into a new table\n",
    "\n"
   ]
  },
  {
   "cell_type": "markdown",
   "id": "b46f2030",
   "metadata": {},
   "source": [
    "-- Assuming your CSV file is comma-separated and has headers\n",
    "\n",
    "CREATE TABLE IF NOT EXISTS crime_data (\n",
    "  State_UT VARCHAR(255) NOT NULL,\n",
    "  District VARCHAR(255) NOT NULL,\n",
    "  Year INTEGER NOT NULL,\n",
    "  Murder INTEGER,\n",
    "  Attempt_Murder INTEGER,\n",
    "  Rape INTEGER\n",
    ");\n",
    "\n",
    "LOAD DATA LOCAL INFILE 'path/to/your/file.csv'\n",
    "INTO TABLE crime_data\n",
    "FIELDS TERMINATED BY ','\n",
    "LINES TERMINATED BY '\\n'\n",
    "IGNORE 1 ROWS ( -- Skip the header row\n",
    "  SELECT State_UT, District, Year, Murder, Attempt_Murder, Rape\n",
    "  FROM (\n",
    "    SELECT * -- Select all columns from the CSV\n",
    "    FROM YourCSVFile -- Replace with the actual CSV file alias\n",
    "  ) AS tmp_data\n",
    "  WHERE State_UT IS NOT NULL AND District IS NOT NULL AND  -- Ensure non-null values for these columns\n",
    "        Year IS NOT NULL\n",
    ");"
   ]
  },
  {
   "cell_type": "markdown",
   "id": "8e79a50b",
   "metadata": {},
   "source": [
    "# 3.8.2\tWrite SQL query to find which District in each state/ut has the highest number of murders yearwise. Your output should show STATE/UT, YEAR, DISTRICT, and MURDERS."
   ]
  },
  {
   "cell_type": "markdown",
   "id": "bf0c6ee1",
   "metadata": {},
   "source": [
    "SELECT \n",
    "  State_UT,\n",
    "  Year,\n",
    "  District,\n",
    "  Murder\n",
    "FROM (\n",
    "  SELECT *,\n",
    "         ROW_NUMBER() OVER (PARTITION BY State_UT, Year ORDER BY Murder DESC) AS rnk\n",
    "  FROM 01_District_wise_crimes_committed_IPC_2001_2012\n",
    "  WHERE CrimeType = 'Murder'\n",
    ") AS ranked_data\n",
    "WHERE rnk = 1;"
   ]
  },
  {
   "cell_type": "markdown",
   "id": "b6eb8e65",
   "metadata": {},
   "source": [
    "# 3.8.3\tStore the above data (the result of 3.2) in DataFrame and analyze districts that appear 3 or more than 3 years and print the corresponding state/ut, district, murders, and year in descending order."
   ]
  },
  {
   "cell_type": "markdown",
   "id": "6fcf2b10",
   "metadata": {},
   "source": [
    "import pandas as pd\n",
    "\n",
    "# Sample data (replace with your actual data source)\n",
    "data = {\n",
    "    'State_UT': ['Andhra Pradesh', 'Andhra Pradesh', 'Andhra Pradesh', 'Arunachal Pradesh', 'Arunachal Pradesh', 'Assam', 'Assam', 'Assam'],\n",
    "    'District': ['Guntur', 'Krishna', 'Guntur', 'East Kameng', 'West Kameng', 'Dhubri', 'Lakhimpur', 'Dhubri'],\n",
    "    'Year': [2010, 2011, 2012, 2010, 2011, 2010, 2011, 2012],\n",
    "    'Murder': [100, 120, 150, 50, 60, 80, 90, 100]\n",
    "}\n",
    "\n",
    "# Create pandas DataFrame\n",
    "df = pd.DataFrame(data)\n",
    "\n",
    "# Highest murder district per state/UT year-wise (similar to 3.8.2)\n",
    "df['rank'] = df.groupby(['State_UT', 'Year'])['Murder'].transform(pd.Series.rank, ascending=False)\n",
    "df_filtered = df[df['rank'] == 1]\n",
    "\n",
    "# Districts appearing 3 or more years (using value counts)\n",
    "three_or_more_years_districts = df_filtered['District'].value_counts()[df_filtered['District'].value_counts() >= 3]\n",
    "\n",
    "# Filter data for those districts\n",
    "result = df_filtered[df_filtered['District'].isin(three_or_more_years_districts.index.tolist())]\n",
    "\n",
    "# Sort by Murder in descending order\n",
    "result = result.sort_values(by='Murder', ascending=False)\n",
    "\n",
    "# Print the DataFrame (without index)\n",
    "print(result.to_string(index=False))"
   ]
  },
  {
   "cell_type": "markdown",
   "id": "b15b14ed",
   "metadata": {},
   "source": [
    "# 3.8.4\tUse appropriate graphs to show your data (the result of 3.8.3)\n",
    "\n"
   ]
  },
  {
   "cell_type": "markdown",
   "id": "fa1d2e00",
   "metadata": {},
   "source": [
    "import pandas as pd\n",
    "import matplotlib.pyplot as plt\n",
    "\n",
    "# Sample data (replace with your actual data source)\n",
    "data = {\n",
    "    'State_UT': ['Andhra Pradesh', 'Andhra Pradesh', 'Andhra Pradesh', 'Arunachal Pradesh', 'Arunachal Pradesh', 'Assam', 'Assam', 'Assam', 'Bihar', 'Bihar', 'Bihar'],\n",
    "    'District': ['Guntur', 'Krishna', 'Guntur', 'East Kameng', 'West Kameng', 'Dhubri', 'Lakhimpur', 'Dhubri', 'Patna', 'Patna', 'Gaya'],\n",
    "    'Year': [2010, 2011, 2012, 2010, 2011, 2010, 2011, 2012, 2010, 2011, 2012],\n",
    "    'Murder': [100, 120, 150, 50, 60, 80, 90, 100, 110, 120, 130]\n",
    "}\n",
    "\n",
    "# Create pandas DataFrame\n",
    "df = pd.DataFrame(data)\n",
    "\n",
    "# Highest murder district per state/UT year-wise (similar to 3.8.2)\n",
    "df['rank'] = df.groupby(['State_UT', 'Year'])['Murder'].transform(pd.Series.rank, ascending=False)\n",
    "df_filtered = df[df['rank'] == 1]\n",
    "\n",
    "# Districts appearing 3 or more years (using value counts)\n",
    "three_or_more_years_districts = df_filtered['District'].value_counts()[df_filtered['District'].value_counts() >= 3]\n",
    "\n",
    "# Filter data for those districts\n",
    "result = df_filtered[df_filtered['District'].isin(three_or_more_years_districts.index.tolist())]\n",
    "\n",
    "# Prepare data for charts\n",
    "districts = result['District'].tolist()\n",
    "murder_counts = result['Murder'].tolist()\n",
    "\n",
    "# Bar chart\n",
    "plt.figure(figsize=(10, 6))\n",
    "plt.barh(districts, murder_counts, color='skyblue')\n",
    "plt.xlabel('Number of Murders')\n",
    "plt.ylabel('District')\n",
    "plt.title('Murders in Districts Appearing 3+ Years (Descending)')\n",
    "plt.gca().invert_yaxis()  # Invert y-axis to display most murders at the top\n",
    "plt.grid(axis='x', linestyle='--', alpha=0.6)\n",
    "plt.tight_layout()\n",
    "plt.show()\n",
    "\n",
    "# Line chart (assuming year data is available)\n",
    "if 'Year' in result.columns:\n",
    "  years = result['Year'].unique()\n",
    "  district_data = result.groupby('District')['Murder'].apply(list).reset_index()\n",
    "  for district, murders in district_data.values.tolist():\n",
    "    plt.plot(years, murders, marker='o', label=district)\n",
    "  plt.xlabel('Year')\n",
    "  plt.ylabel('Number of Murders')\n",
    "  plt.title('Murder Trends in Districts Appearing 3+ Years')\n",
    "  plt.legend()\n",
    "  plt.grid(True)\n",
    "  plt.tight_layout()\n",
    "  plt.show()\n"
   ]
  },
  {
   "cell_type": "markdown",
   "id": "aeeac0df",
   "metadata": {},
   "source": []
  }
 ],
 "metadata": {
  "kernelspec": {
   "display_name": "Python 3 (ipykernel)",
   "language": "python",
   "name": "python3"
  },
  "language_info": {
   "codemirror_mode": {
    "name": "ipython",
    "version": 3
   },
   "file_extension": ".py",
   "mimetype": "text/x-python",
   "name": "python",
   "nbconvert_exporter": "python",
   "pygments_lexer": "ipython3",
   "version": "3.11.5"
  }
 },
 "nbformat": 4,
 "nbformat_minor": 5
}
